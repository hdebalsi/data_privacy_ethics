{
 "cells": [
  {
   "cell_type": "code",
   "execution_count": 1,
   "metadata": {},
   "outputs": [],
   "source": [
    "import pandas as pd\n",
    "import sklearn.datasets as dt"
   ]
  },
  {
   "cell_type": "markdown",
   "metadata": {},
   "source": [
    "# Generate synthetic dataset\n",
    "\n",
    "The true function is: $y = \\beta_{true} * x + \\epsilon$, where $\\epsilon$ is Gaussian(0, 1). \n",
    "*y* is a (n x 1) vector where n = num_samples which we can vary, *x* is a (n x 30) low-rank matrix with only 4 informative features (26 columns of noise). There is no intercept term included in our true function. "
   ]
  },
  {
   "cell_type": "code",
   "execution_count": 6,
   "metadata": {},
   "outputs": [
    {
     "name": "stdout",
     "output_type": "stream",
     "text": [
      "[[-8.94242671e-01 -1.44620074e+00  3.75542243e-01 ... -1.17525677e+00\n",
      "  -1.27627085e+00  1.80559537e-01]\n",
      " [ 1.51373142e+00  1.02543099e+00 -2.74945292e-01 ... -3.76657376e-01\n",
      "   3.93618257e-01  2.60510931e-01]\n",
      " [ 6.89406052e-02 -3.09185717e-01 -2.06622434e+00 ... -8.50357452e-01\n",
      "  -4.51573912e-01  2.09776381e+00]\n",
      " ...\n",
      " [ 2.34390034e+00 -1.30228279e+00  1.35666783e-01 ...  1.17867370e-01\n",
      "   7.19815837e-01 -1.17557249e+00]\n",
      " [-1.85214881e-01 -6.48604614e-01 -9.34765265e-01 ...  1.46026822e-01\n",
      "  -1.98157464e+00 -1.35468693e-03]\n",
      " [-4.19264689e-01  9.09097530e-01  9.90233029e-01 ... -6.56979304e-01\n",
      "   3.45773886e-02 -6.67355321e-01]]\n",
      "[-256.50708451 -171.25330775  143.32160792 ...  -80.28022649  191.33189686\n",
      "   -0.40458888]\n",
      "[ 0.          0.          0.          0.          0.         37.99410015\n",
      "  0.          0.          0.         64.76740749  0.          0.\n",
      "  0.          0.          0.          0.          0.         96.70894709\n",
      "  0.          0.          0.          0.          0.         70.82856261\n",
      "  0.          0.          0.          0.          0.          0.        ]\n"
     ]
    }
   ],
   "source": [
    "x, y, beta_true = dt.make_regression(n_samples = 5000, n_features = 30,\n",
    "n_informative = 4, noise = 1, coef = True, random_state = 234)\n",
    "\n",
    "print(x)\n",
    "print(y)\n",
    "print(beta_true)"
   ]
  },
  {
   "cell_type": "code",
   "execution_count": null,
   "metadata": {},
   "outputs": [],
   "source": []
  }
 ],
 "metadata": {
  "kernelspec": {
   "display_name": "Python 3",
   "language": "python",
   "name": "python3"
  },
  "language_info": {
   "codemirror_mode": {
    "name": "ipython",
    "version": 3
   },
   "file_extension": ".py",
   "mimetype": "text/x-python",
   "name": "python",
   "nbconvert_exporter": "python",
   "pygments_lexer": "ipython3",
   "version": "3.5.2"
  }
 },
 "nbformat": 4,
 "nbformat_minor": 4
}
